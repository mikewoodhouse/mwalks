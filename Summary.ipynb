{
 "cells": [
  {
   "cell_type": "code",
   "execution_count": 33,
   "id": "thirty-inclusion",
   "metadata": {},
   "outputs": [
    {
     "name": "stdout",
     "output_type": "stream",
     "text": [
      "The autoreload extension is already loaded. To reload it, use:\n",
      "  %reload_ext autoreload\n"
     ]
    }
   ],
   "source": [
    "%load_ext autoreload\n",
    "%autoreload 2"
   ]
  },
  {
   "cell_type": "code",
   "execution_count": 34,
   "id": "durable-flooring",
   "metadata": {},
   "outputs": [],
   "source": [
    "from db_routes import load_routes_from_db\n",
    "from collections import defaultdict\n",
    "from summarise import summarise\n",
    "from walks import Route"
   ]
  },
  {
   "cell_type": "code",
   "execution_count": 35,
   "id": "coordinate-snowboard",
   "metadata": {},
   "outputs": [],
   "source": [
    "routes = load_routes_from_db()"
   ]
  },
  {
   "cell_type": "code",
   "execution_count": 36,
   "id": "steady-array",
   "metadata": {},
   "outputs": [
    {
     "name": "stdout",
     "output_type": "stream",
     "text": [
      "(2020, 5) 11 walks, 24.81 miles (24.63), 7.43 hrs (7.08), 3.34 mph (3.48)\n",
      "(2020, 6) 13 walks, 31.06 miles (30.91), 8.52 hrs (8.25), 3.64 mph (3.75)\n",
      "(2020, 7) 3 walks, 8.82 miles (8.76), 2.39 hrs (2.31), 3.68 mph (3.79)\n",
      "(2020, 11) 2 walks, 5.82 miles (5.79), 1.67 hrs (1.59), 3.48 mph (3.64)\n",
      "(2020, 12) 12 walks, 36.61 miles (36.45), 10.31 hrs (9.72), 3.55 mph (3.75)\n",
      "(2021, 1) 12 walks, 46.94 miles (46.61), 13.14 hrs (12.52), 3.57 mph (3.72)\n",
      "(2021, 2) 10 walks, 40.02 miles (39.89), 10.88 hrs (10.70), 3.68 mph (3.73)\n",
      "(2021, 3) 10 walks, 46.79 miles (46.59), 12.61 hrs (12.32), 3.71 mph (3.78)\n",
      "(2021, 4) 4 walks, 20.67 miles (20.53), 5.58 hrs (5.39), 3.70 mph (3.81)\n",
      "(2021, 5) 8 walks, 39.98 miles (39.75), 10.62 hrs (10.33), 3.77 mph (3.85)\n",
      "(2021, 6) 1 walks, 5.47 miles (5.46), 1.43 hrs (1.42), 3.82 mph (3.85)\n"
     ]
    }
   ],
   "source": [
    "summarise(routes)"
   ]
  },
  {
   "cell_type": "code",
   "execution_count": 42,
   "id": "premium-lingerie",
   "metadata": {},
   "outputs": [],
   "source": [
    "rt = routes[85]"
   ]
  },
  {
   "cell_type": "code",
   "execution_count": 43,
   "id": "unexpected-scale",
   "metadata": {},
   "outputs": [],
   "source": [
    "secs = rt.time()"
   ]
  },
  {
   "cell_type": "code",
   "execution_count": 44,
   "id": "analyzed-entity",
   "metadata": {},
   "outputs": [],
   "source": [
    "tenth = secs / 10"
   ]
  },
  {
   "cell_type": "code",
   "execution_count": 45,
   "id": "addressed-azerbaijan",
   "metadata": {},
   "outputs": [
    {
     "name": "stdout",
     "output_type": "stream",
     "text": [
      "10\n"
     ]
    }
   ],
   "source": [
    "s = 0\n",
    "idx = 0\n",
    "new_rts = []\n",
    "new_rt = Route()\n",
    "for seg in rt.segments:\n",
    "    new_rt.add_point(seg.from_point)\n",
    "    s += seg.secs\n",
    "    if s >= tenth:\n",
    "        new_rt.add_point(seg.to_point)\n",
    "        new_rts.append(new_rt)\n",
    "        new_rt = Route()\n",
    "        idx += 1\n",
    "        s = 0\n",
    "if len(new_rt.segments) > 0:\n",
    "    new_rts.append(new_rt)\n",
    "print(len(new_rts))"
   ]
  },
  {
   "cell_type": "code",
   "execution_count": 46,
   "id": "private-bedroom",
   "metadata": {},
   "outputs": [
    {
     "name": "stdout",
     "output_type": "stream",
     "text": [
      "3.75, 93.40, -76.70\n",
      "3.81, 59.40, -65.30\n",
      "3.92, 72.20, -82.10\n",
      "3.71, 78.40, -64.70\n",
      "3.98, 54.20, -54.00\n",
      "4.06, 96.80, -82.40\n",
      "4.01, 62.20, -44.00\n",
      "4.09, 52.90, -82.40\n",
      "3.17, 57.20, -61.10\n",
      "3.81, 19.10, -3.90\n"
     ]
    }
   ],
   "source": [
    "for r in new_rts:\n",
    "    print(f'{r.filtered_mph():.2f}, {r.rise():.2f}, {r.fall():.2f}')"
   ]
  },
  {
   "cell_type": "code",
   "execution_count": null,
   "id": "humanitarian-equivalent",
   "metadata": {},
   "outputs": [],
   "source": []
  }
 ],
 "metadata": {
  "kernelspec": {
   "display_name": "Python 3",
   "language": "python",
   "name": "python3"
  },
  "language_info": {
   "codemirror_mode": {
    "name": "ipython",
    "version": 3
   },
   "file_extension": ".py",
   "mimetype": "text/x-python",
   "name": "python",
   "nbconvert_exporter": "python",
   "pygments_lexer": "ipython3",
   "version": "3.9.0"
  }
 },
 "nbformat": 4,
 "nbformat_minor": 5
}
