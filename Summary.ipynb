{
 "cells": [
  {
   "cell_type": "code",
   "execution_count": null,
   "id": "thirty-inclusion",
   "metadata": {
    "ExecuteTime": {
     "end_time": "2021-07-27T14:10:54.152581Z",
     "start_time": "2021-07-27T14:10:54.108585Z"
    }
   },
   "outputs": [],
   "source": [
    "%load_ext autoreload\n",
    "%autoreload 2"
   ]
  },
  {
   "cell_type": "code",
   "execution_count": null,
   "id": "durable-flooring",
   "metadata": {
    "ExecuteTime": {
     "end_time": "2021-07-27T14:10:54.348579Z",
     "start_time": "2021-07-27T14:10:54.152581Z"
    }
   },
   "outputs": [],
   "source": [
    "from db_routes import load_routes_from_db\n",
    "from collections import defaultdict\n",
    "from summarise import summarise\n",
    "from walks import Route\n",
    "from slicer import Slicer"
   ]
  },
  {
   "cell_type": "code",
   "execution_count": null,
   "id": "coordinate-snowboard",
   "metadata": {
    "ExecuteTime": {
     "end_time": "2021-07-27T14:10:55.117901Z",
     "start_time": "2021-07-27T14:10:54.349560Z"
    }
   },
   "outputs": [],
   "source": [
    "routes = load_routes_from_db()"
   ]
  },
  {
   "cell_type": "code",
   "execution_count": null,
   "id": "steady-array",
   "metadata": {
    "ExecuteTime": {
     "end_time": "2021-07-27T14:10:55.197755Z",
     "start_time": "2021-07-27T14:10:55.117901Z"
    }
   },
   "outputs": [],
   "source": [
    "summarise(routes)"
   ]
  },
  {
   "cell_type": "code",
   "execution_count": null,
   "id": "premium-lingerie",
   "metadata": {
    "ExecuteTime": {
     "end_time": "2021-07-27T14:11:40.717307Z",
     "start_time": "2021-07-27T14:11:40.675527Z"
    }
   },
   "outputs": [],
   "source": [
    "latest = max(routes.keys())\n",
    "print(f'{latest=}')\n",
    "rt = routes[latest]"
   ]
  },
  {
   "cell_type": "code",
   "execution_count": null,
   "id": "unexpected-scale",
   "metadata": {
    "ExecuteTime": {
     "end_time": "2021-07-27T14:45:44.189930Z",
     "start_time": "2021-07-27T14:45:43.945937Z"
    }
   },
   "outputs": [],
   "source": [
    "slicer = Slicer(rt, 10)"
   ]
  },
  {
   "cell_type": "code",
   "execution_count": null,
   "id": "private-bedroom",
   "metadata": {
    "ExecuteTime": {
     "end_time": "2021-07-27T14:48:51.002785Z",
     "start_time": "2021-07-27T14:48:50.838787Z"
    }
   },
   "outputs": [],
   "source": [
    "for r in slicer.slices:\n",
    "    print(f'{r.miles:.2f}mi {r.time:.1f}sec {r.mph:.2f}mph, {r.rise + r.fall:7.2f}m ({r.rise:7.2f}, {r.fall:7.2f})')"
   ]
  },
  {
   "cell_type": "code",
   "execution_count": null,
   "id": "banned-torture",
   "metadata": {},
   "outputs": [],
   "source": []
  }
 ],
 "metadata": {
  "kernelspec": {
   "display_name": "Python 3",
   "language": "python",
   "name": "python3"
  },
  "language_info": {
   "codemirror_mode": {
    "name": "ipython",
    "version": 3
   },
   "file_extension": ".py",
   "mimetype": "text/x-python",
   "name": "python",
   "nbconvert_exporter": "python",
   "pygments_lexer": "ipython3",
   "version": "3.12.2"
  }
 },
 "nbformat": 4,
 "nbformat_minor": 5
}
