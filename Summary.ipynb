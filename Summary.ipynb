{
 "cells": [
  {
   "cell_type": "code",
   "execution_count": 1,
   "id": "thirty-inclusion",
   "metadata": {
    "ExecuteTime": {
     "end_time": "2021-07-27T14:10:54.152581Z",
     "start_time": "2021-07-27T14:10:54.108585Z"
    }
   },
   "outputs": [],
   "source": [
    "%load_ext autoreload\n",
    "%autoreload 2"
   ]
  },
  {
   "cell_type": "code",
   "execution_count": 3,
   "id": "durable-flooring",
   "metadata": {
    "ExecuteTime": {
     "end_time": "2021-07-27T14:10:54.348579Z",
     "start_time": "2021-07-27T14:10:54.152581Z"
    }
   },
   "outputs": [],
   "source": [
    "from db_routes import load_routes_from_db\n",
    "from collections import defaultdict\n",
    "from summarise import summarise\n",
    "from lib.walks import Route\n",
    "from slicer import Slicer"
   ]
  },
  {
   "cell_type": "code",
   "execution_count": 13,
   "id": "coordinate-snowboard",
   "metadata": {
    "ExecuteTime": {
     "end_time": "2021-07-27T14:10:55.117901Z",
     "start_time": "2021-07-27T14:10:54.349560Z"
    }
   },
   "outputs": [],
   "source": [
    "routes = load_routes_from_db()"
   ]
  },
  {
   "cell_type": "code",
   "execution_count": 14,
   "id": "steady-array",
   "metadata": {
    "ExecuteTime": {
     "end_time": "2021-07-27T14:10:55.197755Z",
     "start_time": "2021-07-27T14:10:55.117901Z"
    }
   },
   "outputs": [
    {
     "name": "stdout",
     "output_type": "stream",
     "text": [
      "(2020, 5) 11 walks, 24.81 miles (24.63), 7.43 hrs (7.08), 3.34 mph (3.48)\n",
      "(2020, 6) 13 walks, 31.06 miles (30.91), 8.52 hrs (8.25), 3.64 mph (3.75)\n",
      "(2020, 7) 7 walks, 19.69 miles (19.55), 5.41 hrs (5.14), 3.64 mph (3.81)\n",
      "(2020, 11) 2 walks, 5.82 miles (5.79), 1.67 hrs (1.59), 3.48 mph (3.64)\n",
      "(2020, 12) 12 walks, 36.61 miles (36.45), 10.31 hrs (9.72), 3.55 mph (3.75)\n",
      "(2021, 1) 13 walks, 49.33 miles (48.96), 14.01 hrs (13.27), 3.52 mph (3.69)\n",
      "(2021, 2) 13 walks, 50.17 miles (50.00), 13.65 hrs (13.41), 3.68 mph (3.73)\n",
      "(2021, 3) 10 walks, 46.79 miles (46.59), 12.61 hrs (12.32), 3.71 mph (3.78)\n",
      "(2021, 4) 4 walks, 20.67 miles (20.53), 5.58 hrs (5.39), 3.70 mph (3.81)\n",
      "(2021, 5) 8 walks, 39.98 miles (39.75), 10.62 hrs (10.33), 3.77 mph (3.85)\n",
      "(2021, 6) 5 walks, 22.24 miles (22.08), 5.89 hrs (5.71), 3.77 mph (3.87)\n",
      "(2021, 7) 3 walks, 16.54 miles (16.46), 4.24 hrs (4.13), 3.90 mph (3.98)\n",
      "(2021, 8) 3 walks, 13.97 miles (13.92), 3.70 hrs (3.64), 3.78 mph (3.82)\n",
      "(2022, 1) 4 walks, 6.84 miles (6.74), 1.83 hrs (1.67), 3.75 mph (4.02)\n",
      "(2022, 2) 4 walks, 6.93 miles (6.86), 1.70 hrs (1.58), 4.09 mph (4.33)\n",
      "(2022, 3) 2 walks, 4.22 miles (4.20), 1.03 hrs (1.01), 4.11 mph (4.18)\n",
      "(2022, 6) 4 walks, 6.02 miles (6.00), 1.55 hrs (1.50), 3.90 mph (3.99)\n",
      "(2022, 11) 1 walks, 2.35 miles (2.14), 1.25 hrs (0.76), 1.88 mph (2.82)\n",
      "(2023, 2) 1 walks, 1.65 miles (1.65), 0.35 hrs (0.35), 4.73 mph (4.73)\n",
      "(2023, 3) 1 walks, 1.65 miles (1.63), 0.44 hrs (0.41), 3.79 mph (3.98)\n",
      "(2023, 4) 2 walks, 1.90 miles (1.87), 0.52 hrs (0.45), 3.64 mph (4.12)\n",
      "(2023, 5) 5 walks, 9.17 miles (9.11), 2.10 hrs (2.03), 4.36 mph (4.49)\n",
      "(2023, 6) 7 walks, 10.43 miles (10.32), 2.87 hrs (2.64), 3.64 mph (3.91)\n",
      "(2023, 7) 1 walks, 1.88 miles (1.86), 0.49 hrs (0.46), 3.88 mph (4.02)\n",
      "(2023, 8) 1 walks, 1.81 miles (1.80), 0.45 hrs (0.44), 4.03 mph (4.09)\n",
      "(2023, 9) 2 walks, 2.43 miles (2.42), 0.61 hrs (0.59), 3.99 mph (4.12)\n",
      "(2023, 10) 1 walks, 2.60 miles (2.58), 0.70 hrs (0.66), 3.71 mph (3.90)\n",
      "(2024, 1) 3 walks, 4.50 miles (4.22), 1.45 hrs (1.04), 3.09 mph (4.05)\n",
      "(2024, 3) 4 walks, 18.34 miles (18.30), 4.85 hrs (4.78), 3.78 mph (3.83)\n",
      "(2024, 4) 5 walks, 24.24 miles (24.17), 6.43 hrs (6.31), 3.77 mph (3.83)\n",
      "(2024, 5) 1 walks, 4.95 miles (4.93), 1.29 hrs (1.26), 3.84 mph (3.92)\n",
      "(2024, 10) 2 walks, 3.22 miles (3.20), 0.90 hrs (0.86), 3.56 mph (3.71)\n",
      "(2024, 11) 4 walks, 13.53 miles (13.43), 3.95 hrs (3.76), 3.42 mph (3.57)\n",
      "(2024, 12) 2 walks, 5.04 miles (4.96), 1.74 hrs (1.51), 2.89 mph (3.28)\n",
      "(2025, 1) 3 walks, 12.61 miles (12.52), 3.58 hrs (3.40), 3.52 mph (3.68)\n",
      "(2025, 2) 1 walks, 9.21 miles (9.07), 3.47 hrs (3.11), 2.65 mph (2.92)\n",
      "Total: 165 walks, 533.21 miles (529.60), 147.20 hrs (140.57), 3.62 mph (3.77)\n"
     ]
    }
   ],
   "source": [
    "summarise(routes)"
   ]
  },
  {
   "cell_type": "code",
   "execution_count": null,
   "id": "premium-lingerie",
   "metadata": {
    "ExecuteTime": {
     "end_time": "2021-07-27T14:11:40.717307Z",
     "start_time": "2021-07-27T14:11:40.675527Z"
    }
   },
   "outputs": [
    {
     "name": "stdout",
     "output_type": "stream",
     "text": [
      "latest=165\n",
      "2021-08-13, 2.81 miles (2.80), 0.74 hrs (0.73), 3.78 mph (3.83) rise/fall 282.5/-314.0m\n"
     ]
    }
   ],
   "source": [
    "latest = next(rt for rt in sorted(routes.values(), key=lambda r: r.walk_date, reverse=True))\n",
    "latest = max(routes.keys())\n",
    "print(f'{latest=}')\n",
    "rt = routes[latest]\n",
    "print(rt)"
   ]
  },
  {
   "cell_type": "code",
   "execution_count": 8,
   "id": "unexpected-scale",
   "metadata": {
    "ExecuteTime": {
     "end_time": "2021-07-27T14:45:44.189930Z",
     "start_time": "2021-07-27T14:45:43.945937Z"
    }
   },
   "outputs": [],
   "source": [
    "slicer = Slicer(rt, 10)"
   ]
  },
  {
   "cell_type": "code",
   "execution_count": 9,
   "id": "private-bedroom",
   "metadata": {
    "ExecuteTime": {
     "end_time": "2021-07-27T14:48:51.002785Z",
     "start_time": "2021-07-27T14:48:50.838787Z"
    }
   },
   "outputs": [
    {
     "name": "stdout",
     "output_type": "stream",
     "text": [
      "0.27mi 262.6sec 3.75mph,    5.00m (  11.80,   -6.80)\n",
      "0.28mi 265.1sec 3.87mph,  -16.79m (  33.30,  -50.09)\n",
      "0.29mi 262.1sec 4.01mph,  -13.09m (  31.00,  -44.09)\n",
      "0.28mi 261.6sec 3.87mph,   -3.63m (  30.50,  -34.13)\n",
      "0.31mi 292.6sec 3.77mph,    2.76m (  29.85,  -27.10)\n",
      "0.29mi 278.9sec 3.78mph,   -5.71m (  25.15,  -30.85)\n",
      "0.28mi 260.9sec 3.84mph,   -0.80m (  34.55,  -35.35)\n",
      "0.28mi 271.0sec 3.76mph,    1.74m (  37.24,  -35.50)\n",
      "0.25mi 255.9sec 3.45mph,    7.41m (  16.81,   -9.40)\n",
      "0.27mi 260.1sec 3.68mph,   -8.30m (  31.00,  -39.30)\n"
     ]
    }
   ],
   "source": [
    "for r in slicer.slices:\n",
    "    print(f'{r.miles:.2f}mi {r.time:.1f}sec {r.mph:.2f}mph, {r.rise + r.fall:7.2f}m ({r.rise:7.2f}, {r.fall:7.2f})')"
   ]
  },
  {
   "cell_type": "code",
   "execution_count": null,
   "id": "banned-torture",
   "metadata": {},
   "outputs": [],
   "source": []
  }
 ],
 "metadata": {
  "kernelspec": {
   "display_name": "venv",
   "language": "python",
   "name": "python3"
  },
  "language_info": {
   "codemirror_mode": {
    "name": "ipython",
    "version": 3
   },
   "file_extension": ".py",
   "mimetype": "text/x-python",
   "name": "python",
   "nbconvert_exporter": "python",
   "pygments_lexer": "ipython3",
   "version": "3.12.2"
  }
 },
 "nbformat": 4,
 "nbformat_minor": 5
}
