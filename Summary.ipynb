{
 "cells": [
  {
   "cell_type": "code",
   "execution_count": null,
   "id": "thirty-inclusion",
   "metadata": {
    "ExecuteTime": {
     "end_time": "2021-07-27T13:35:32.690674Z",
     "start_time": "2021-07-27T13:35:32.642702Z"
    }
   },
   "outputs": [],
   "source": [
    "%load_ext autoreload\n",
    "%autoreload 2"
   ]
  },
  {
   "cell_type": "code",
   "execution_count": null,
   "id": "durable-flooring",
   "metadata": {
    "ExecuteTime": {
     "end_time": "2021-07-27T13:35:33.572838Z",
     "start_time": "2021-07-27T13:35:33.320853Z"
    }
   },
   "outputs": [],
   "source": [
    "from db_routes import load_routes_from_db\n",
    "from collections import defaultdict\n",
    "from summarise import summarise\n",
    "from walks import Route\n",
    "from slicer import Slicer"
   ]
  },
  {
   "cell_type": "code",
   "execution_count": null,
   "id": "coordinate-snowboard",
   "metadata": {
    "ExecuteTime": {
     "end_time": "2021-07-27T13:35:35.132289Z",
     "start_time": "2021-07-27T13:35:34.368511Z"
    }
   },
   "outputs": [],
   "source": [
    "routes = load_routes_from_db()"
   ]
  },
  {
   "cell_type": "code",
   "execution_count": null,
   "id": "steady-array",
   "metadata": {
    "ExecuteTime": {
     "end_time": "2021-07-27T13:35:35.224175Z",
     "start_time": "2021-07-27T13:35:35.132289Z"
    }
   },
   "outputs": [],
   "source": [
    "summarise(routes)"
   ]
  },
  {
   "cell_type": "code",
   "execution_count": null,
   "id": "premium-lingerie",
   "metadata": {
    "ExecuteTime": {
     "end_time": "2021-07-27T13:35:35.358448Z",
     "start_time": "2021-07-27T13:35:35.318417Z"
    }
   },
   "outputs": [],
   "source": [
    "rt = routes[93]"
   ]
  },
  {
   "cell_type": "code",
   "execution_count": null,
   "id": "unexpected-scale",
   "metadata": {
    "ExecuteTime": {
     "end_time": "2021-07-27T14:09:04.249887Z",
     "start_time": "2021-07-27T14:09:04.142954Z"
    }
   },
   "outputs": [],
   "source": [
    "slicer = Slicer(rt, 10)"
   ]
  },
  {
   "cell_type": "code",
   "execution_count": null,
   "id": "private-bedroom",
   "metadata": {
    "ExecuteTime": {
     "end_time": "2021-07-27T14:09:05.798984Z",
     "start_time": "2021-07-27T14:09:05.750986Z"
    }
   },
   "outputs": [],
   "source": [
    "for r in slicer.slices:\n",
    "    print(f'{r.miles():.2f}mi {r.time():.1f}sec {r.avg_mph():.2f}mph, {r.rise() + r.fall():7.2f}m ({r.rise():7.2f}, {r.fall():7.2f})')"
   ]
  },
  {
   "cell_type": "code",
   "execution_count": null,
   "id": "humanitarian-equivalent",
   "metadata": {},
   "outputs": [],
   "source": []
  }
 ],
 "metadata": {
  "kernelspec": {
   "display_name": "Python 3",
   "language": "python",
   "name": "python3"
  },
  "language_info": {
   "codemirror_mode": {
    "name": "ipython",
    "version": 3
   },
   "file_extension": ".py",
   "mimetype": "text/x-python",
   "name": "python",
   "nbconvert_exporter": "python",
   "pygments_lexer": "ipython3",
   "version": "3.9.0"
  }
 },
 "nbformat": 4,
 "nbformat_minor": 5
}
