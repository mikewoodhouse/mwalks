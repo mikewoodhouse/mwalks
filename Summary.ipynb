{
 "cells": [
  {
   "cell_type": "code",
   "execution_count": null,
   "id": "thirty-inclusion",
   "metadata": {},
   "outputs": [],
   "source": [
    "%load_ext autoreload\n",
    "%autoreload 2"
   ]
  },
  {
   "cell_type": "code",
   "execution_count": null,
   "id": "durable-flooring",
   "metadata": {},
   "outputs": [],
   "source": [
    "from db_routes import load_routes_from_db"
   ]
  },
  {
   "cell_type": "code",
   "execution_count": null,
   "id": "coordinate-snowboard",
   "metadata": {},
   "outputs": [],
   "source": [
    "routes = load_routes_from_db()"
   ]
  },
  {
   "cell_type": "code",
   "execution_count": null,
   "id": "disabled-eclipse",
   "metadata": {},
   "outputs": [],
   "source": [
    "from collections import defaultdict"
   ]
  },
  {
   "cell_type": "code",
   "execution_count": null,
   "id": "ancient-compiler",
   "metadata": {},
   "outputs": [],
   "source": [
    "class Count:\n",
    "    def __init__(self):\n",
    "        self.walks = 0\n",
    "        self.miles = 0.0\n",
    "        self.hrs = 0.0\n",
    "        \n",
    "    def add(self, rt):\n",
    "        self.walks += 1\n",
    "        self.miles += rt.miles()\n",
    "        self.hrs += rt.time() / 3600\n",
    "        \n",
    "    def __repr__(self):\n",
    "        avg_mph = self.miles / self.hrs\n",
    "        return(f'{self.walks} walks, {self.miles:.2f} miles, {self.hrs:.2f} hrs, {avg_mph:.2f} mph')"
   ]
  },
  {
   "cell_type": "code",
   "execution_count": null,
   "id": "beautiful-loading",
   "metadata": {},
   "outputs": [],
   "source": [
    "tots = defaultdict(Count)"
   ]
  },
  {
   "cell_type": "code",
   "execution_count": null,
   "id": "loving-holocaust",
   "metadata": {},
   "outputs": [],
   "source": [
    "for k, r in routes.items():\n",
    "    yy = r.walk_date.year\n",
    "    mm = r.walk_date.month\n",
    "    tots[(yy, mm)].add(r)"
   ]
  },
  {
   "cell_type": "code",
   "execution_count": null,
   "id": "ordinary-affiliation",
   "metadata": {},
   "outputs": [],
   "source": [
    "for k, t in tots.items():\n",
    "    print(k, t)"
   ]
  },
  {
   "cell_type": "code",
   "execution_count": null,
   "id": "mathematical-interview",
   "metadata": {},
   "outputs": [],
   "source": []
  }
 ],
 "metadata": {
  "kernelspec": {
   "display_name": "Python 3",
   "language": "python",
   "name": "python3"
  },
  "language_info": {
   "codemirror_mode": {
    "name": "ipython",
    "version": 3
   },
   "file_extension": ".py",
   "mimetype": "text/x-python",
   "name": "python",
   "nbconvert_exporter": "python",
   "pygments_lexer": "ipython3",
   "version": "3.9.0"
  }
 },
 "nbformat": 4,
 "nbformat_minor": 5
}
