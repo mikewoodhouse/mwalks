{
 "cells": [
  {
   "cell_type": "code",
   "execution_count": 1,
   "id": "thirty-inclusion",
   "metadata": {},
   "outputs": [],
   "source": [
    "%load_ext autoreload\n",
    "%autoreload 2"
   ]
  },
  {
   "cell_type": "code",
   "execution_count": 2,
   "id": "durable-flooring",
   "metadata": {},
   "outputs": [],
   "source": [
    "from db_routes import load_routes_from_db"
   ]
  },
  {
   "cell_type": "code",
   "execution_count": 3,
   "id": "coordinate-snowboard",
   "metadata": {},
   "outputs": [],
   "source": [
    "routes = load_routes_from_db()"
   ]
  },
  {
   "cell_type": "code",
   "execution_count": 4,
   "id": "disabled-eclipse",
   "metadata": {},
   "outputs": [],
   "source": [
    "from collections import defaultdict"
   ]
  },
  {
   "cell_type": "code",
   "execution_count": 5,
   "id": "ancient-compiler",
   "metadata": {},
   "outputs": [],
   "source": [
    "class Count:\n",
    "    def __init__(self):\n",
    "        self.walks = 0\n",
    "        self.miles = 0.0\n",
    "        self.hrs = 0.0\n",
    "        \n",
    "    def add(self, rt):\n",
    "        self.walks += 1\n",
    "        self.miles += rt.miles()\n",
    "        self.hrs += rt.time() / 3600\n",
    "        \n",
    "    def __repr__(self):\n",
    "        avg_mph = self.miles / self.hrs\n",
    "        return(f'{self.walks} walks, {self.miles:.2f} miles, {self.hrs:.2f} hrs, {avg_mph:.2f} mph')"
   ]
  },
  {
   "cell_type": "code",
   "execution_count": 6,
   "id": "beautiful-loading",
   "metadata": {},
   "outputs": [],
   "source": [
    "tots = defaultdict(Count)"
   ]
  },
  {
   "cell_type": "code",
   "execution_count": 7,
   "id": "loving-holocaust",
   "metadata": {},
   "outputs": [],
   "source": [
    "for k, r in routes.items():\n",
    "    yy = r.walk_date.year\n",
    "    mm = r.walk_date.month\n",
    "    tots[(yy, mm)].add(r)"
   ]
  },
  {
   "cell_type": "code",
   "execution_count": 8,
   "id": "ordinary-affiliation",
   "metadata": {},
   "outputs": [
    {
     "name": "stdout",
     "output_type": "stream",
     "text": [
      "(2020, 5) 11 walks, 24.81 miles, 7.43 hrs, 3.34 mph\n",
      "(2020, 6) 13 walks, 31.06 miles, 8.52 hrs, 3.64 mph\n",
      "(2020, 7) 3 walks, 8.82 miles, 2.39 hrs, 3.68 mph\n",
      "(2020, 11) 2 walks, 5.82 miles, 1.67 hrs, 3.48 mph\n",
      "(2020, 12) 12 walks, 36.61 miles, 10.31 hrs, 3.55 mph\n",
      "(2021, 1) 12 walks, 46.94 miles, 13.14 hrs, 3.57 mph\n",
      "(2021, 2) 10 walks, 40.02 miles, 10.88 hrs, 3.68 mph\n",
      "(2021, 3) 10 walks, 46.79 miles, 12.61 hrs, 3.71 mph\n",
      "(2021, 4) 4 walks, 20.67 miles, 5.58 hrs, 3.70 mph\n",
      "(2021, 5) 1 walks, 4.85 miles, 1.30 hrs, 3.72 mph\n"
     ]
    }
   ],
   "source": [
    "for k, t in tots.items():\n",
    "    print(k, t)"
   ]
  },
  {
   "cell_type": "code",
   "execution_count": null,
   "id": "mathematical-interview",
   "metadata": {},
   "outputs": [],
   "source": []
  }
 ],
 "metadata": {
  "kernelspec": {
   "display_name": "Python 3",
   "language": "python",
   "name": "python3"
  },
  "language_info": {
   "codemirror_mode": {
    "name": "ipython",
    "version": 3
   },
   "file_extension": ".py",
   "mimetype": "text/x-python",
   "name": "python",
   "nbconvert_exporter": "python",
   "pygments_lexer": "ipython3",
   "version": "3.9.0"
  }
 },
 "nbformat": 4,
 "nbformat_minor": 5
}
