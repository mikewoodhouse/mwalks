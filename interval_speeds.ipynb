{
 "cells": [
  {
   "cell_type": "code",
   "execution_count": 1,
   "metadata": {},
   "outputs": [],
   "source": [
    "%load_ext autoreload\n",
    "%autoreload 2"
   ]
  },
  {
   "cell_type": "code",
   "execution_count": 2,
   "metadata": {},
   "outputs": [],
   "source": [
    "from lib.types import Point, Route\n",
    "import sqlite3\n",
    "from itertools import groupby\n",
    "from datetime import datetime"
   ]
  },
  {
   "cell_type": "code",
   "execution_count": 3,
   "metadata": {},
   "outputs": [],
   "source": [
    "db = sqlite3.connect(\"./mwalks.sqlite\")\n",
    "db.row_factory = sqlite3.Row"
   ]
  },
  {
   "cell_type": "code",
   "execution_count": 4,
   "metadata": {},
   "outputs": [],
   "source": [
    "rows = db.execute(\"SELECT * FROM points ORDER BY route_id, point_id LIMIT 10\").fetchall()"
   ]
  },
  {
   "cell_type": "code",
   "execution_count": 5,
   "metadata": {},
   "outputs": [],
   "source": [
    "pts = [Point(*row) for row in rows[:10]]"
   ]
  },
  {
   "cell_type": "code",
   "execution_count": 10,
   "metadata": {},
   "outputs": [],
   "source": [
    "rts = [Route(route_id=route_id, points=list(items)) for route_id, items in groupby(pts, key=lambda pt: (pt.route_id))]"
   ]
  },
  {
   "cell_type": "code",
   "execution_count": 11,
   "metadata": {},
   "outputs": [
    {
     "data": {
      "text/plain": [
       "[Route(route_id=1, path='', points=[Point(point_id=1, route_id=1, dt=datetime.datetime(2020, 7, 17, 5, 42, 19, 502000, tzinfo=datetime.timezone.utc), lat=51.425454, lon=0.112746, ele=100.8), Point(point_id=2, route_id=1, dt=datetime.datetime(2020, 7, 17, 5, 42, 33, 656000, tzinfo=datetime.timezone.utc), lat=51.425479, lon=0.112657, ele=100.4), Point(point_id=3, route_id=1, dt=datetime.datetime(2020, 7, 17, 5, 42, 37, 42000, tzinfo=datetime.timezone.utc), lat=51.425504, lon=0.112558, ele=100.4), Point(point_id=4, route_id=1, dt=datetime.datetime(2020, 7, 17, 5, 42, 40, 231000, tzinfo=datetime.timezone.utc), lat=51.425526, lon=0.112481, ele=100.3), Point(point_id=5, route_id=1, dt=datetime.datetime(2020, 7, 17, 5, 42, 43, 313000, tzinfo=datetime.timezone.utc), lat=51.425528, lon=0.112402, ele=100.3), Point(point_id=6, route_id=1, dt=datetime.datetime(2020, 7, 17, 5, 42, 46, 731000, tzinfo=datetime.timezone.utc), lat=51.425517, lon=0.112298, ele=100.3), Point(point_id=7, route_id=1, dt=datetime.datetime(2020, 7, 17, 5, 42, 50, 76000, tzinfo=datetime.timezone.utc), lat=51.425502, lon=0.112219, ele=100.3), Point(point_id=8, route_id=1, dt=datetime.datetime(2020, 7, 17, 5, 42, 54, 36000, tzinfo=datetime.timezone.utc), lat=51.425472, lon=0.112114, ele=100.3), Point(point_id=9, route_id=1, dt=datetime.datetime(2020, 7, 17, 5, 42, 57, 450000, tzinfo=datetime.timezone.utc), lat=51.425458, lon=0.11204, ele=100.3), Point(point_id=10, route_id=1, dt=datetime.datetime(2020, 7, 17, 5, 43, 4, 231000, tzinfo=datetime.timezone.utc), lat=51.425433, lon=0.111924, ele=100.3)])]"
      ]
     },
     "execution_count": 11,
     "metadata": {},
     "output_type": "execute_result"
    }
   ],
   "source": [
    "rts"
   ]
  },
  {
   "cell_type": "code",
   "execution_count": null,
   "metadata": {},
   "outputs": [],
   "source": []
  }
 ],
 "metadata": {
  "kernelspec": {
   "display_name": "venv",
   "language": "python",
   "name": "python3"
  },
  "language_info": {
   "codemirror_mode": {
    "name": "ipython",
    "version": 3
   },
   "file_extension": ".py",
   "mimetype": "text/x-python",
   "name": "python",
   "nbconvert_exporter": "python",
   "pygments_lexer": "ipython3",
   "version": "3.12.2"
  }
 },
 "nbformat": 4,
 "nbformat_minor": 2
}
