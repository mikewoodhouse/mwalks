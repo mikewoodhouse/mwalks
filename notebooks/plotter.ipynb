{
 "cells": [
  {
   "cell_type": "code",
   "execution_count": 1,
   "metadata": {},
   "outputs": [],
   "source": [
    "import fiona\n",
    "import math"
   ]
  },
  {
   "cell_type": "code",
   "execution_count": 2,
   "metadata": {},
   "outputs": [],
   "source": [
    "# fname = 'routes/Route from 2021-02-02 08 27_20210202082755.gpx'\n",
    "# fname = 'routes/Route from 2021-02-03 08 20_20210203082009.gpx'\n",
    "# fname = 'routes/Route from 2021-01-04 08 27_20210104082708.gpx'\n",
    "fname = \"../routes/MyTracks_Route_from_2024-03-05_07_36_20240305073625.gpx\""
   ]
  },
  {
   "cell_type": "markdown",
   "metadata": {},
   "source": [
    "## Fiona\n",
    "\n",
    "Fiona reads and writes geographic data files\n",
    "\n",
    "https://fiona.readthedocs.io/en/latest/README.html"
   ]
  },
  {
   "cell_type": "code",
   "execution_count": 3,
   "metadata": {},
   "outputs": [
    {
     "data": {
      "text/plain": [
       "['waypoints', 'routes', 'tracks', 'route_points', 'track_points']"
      ]
     },
     "execution_count": 3,
     "metadata": {},
     "output_type": "execute_result"
    }
   ],
   "source": [
    "fiona.listlayers(fname)"
   ]
  },
  {
   "cell_type": "markdown",
   "metadata": {},
   "source": [
    "We're interested in the tracks..."
   ]
  },
  {
   "cell_type": "code",
   "execution_count": 4,
   "metadata": {},
   "outputs": [],
   "source": [
    "layer = fiona.open(fname, layer='tracks')\n",
    "lon_min, lat_min, lon_max, lat_max = layer.bounds"
   ]
  },
  {
   "cell_type": "code",
   "execution_count": 5,
   "metadata": {
    "tags": []
   },
   "outputs": [
    {
     "name": "stdout",
     "output_type": "stream",
     "text": [
      "geometry, id, properties\n",
      "0\n",
      "coordinates, type, geometries\n"
     ]
    }
   ],
   "source": [
    "geom = layer[0]  # first track? (my data only has one per file, AFAIK)\n",
    "print(\", \".join(geom.keys()))\n",
    "print(geom['id'])\n",
    "print(\", \".join(geom['geometry'].keys()))"
   ]
  },
  {
   "cell_type": "code",
   "execution_count": 6,
   "metadata": {
    "tags": []
   },
   "outputs": [],
   "source": [
    "coords = geom['geometry']['coordinates']"
   ]
  },
  {
   "cell_type": "code",
   "execution_count": 8,
   "metadata": {},
   "outputs": [
    {
     "ename": "ModuleNotFoundError",
     "evalue": "No module named 'lib.haversine'",
     "output_type": "error",
     "traceback": [
      "\u001b[1;31m---------------------------------------------------------------------------\u001b[0m",
      "\u001b[1;31mModuleNotFoundError\u001b[0m                       Traceback (most recent call last)",
      "Cell \u001b[1;32mIn[8], line 1\u001b[0m\n\u001b[1;32m----> 1\u001b[0m \u001b[38;5;28;01mfrom\u001b[39;00m \u001b[38;5;21;01mlib\u001b[39;00m\u001b[38;5;21;01m.\u001b[39;00m\u001b[38;5;21;01mhaversine\u001b[39;00m \u001b[38;5;28;01mimport\u001b[39;00m distance\n",
      "\u001b[1;31mModuleNotFoundError\u001b[0m: No module named 'lib.haversine'"
     ]
    }
   ],
   "source": [
    "from lib.haversine import distance"
   ]
  },
  {
   "cell_type": "code",
   "execution_count": null,
   "metadata": {},
   "outputs": [],
   "source": [
    "from lib.haversine import distance\n",
    "\n",
    "d = 0.0\n",
    "\n",
    "for p1, p2 in zip(coords[0], coords[0][1:]):\n",
    "    d += distance(p1, p2)\n",
    "    if d < 100:\n",
    "        print(p1, p2, d)\n",
    "\n",
    "print(f'total distance: {d:.1f}m ({d * 5.0 / 8000.0:.3f}m)')"
   ]
  },
  {
   "cell_type": "code",
   "execution_count": null,
   "metadata": {},
   "outputs": [],
   "source": [
    "from shapely.geometry import shape"
   ]
  },
  {
   "cell_type": "code",
   "execution_count": null,
   "metadata": {},
   "outputs": [],
   "source": [
    "data = {'type': 'MultiLineString', 'coordinates': coords}\n",
    "\n",
    "shp = shape(data)"
   ]
  },
  {
   "cell_type": "markdown",
   "metadata": {},
   "source": [
    "# Cartopy\n",
    "\n",
    "https://scitools.org.uk/cartopy/docs/latest/index.html\n",
    "\n",
    "Cartopy is a Python package designed for geospatial data processing in order to produce maps and other geospatial data analyses.\n",
    "\n",
    "crs: coordinate reference system\n",
    "\n",
    "PlateCarree: Equirectangular projection [Wikipedia article](https://en.wikipedia.org/wiki/Equirectangular_projection)\n",
    "\n",
    "Other projections are available, see https://scitools.org.uk/cartopy/docs/latest/crs/projections.html\n"
   ]
  },
  {
   "cell_type": "code",
   "execution_count": null,
   "metadata": {},
   "outputs": [],
   "source": [
    "import matplotlib.pyplot as plt\n",
    "\n",
    "import cartopy.crs as ccrs\n",
    "from cartopy.io import shapereader\n",
    "from cartopy.mpl.gridliner import LONGITUDE_FORMATTER, LATITUDE_FORMATTER\n",
    "\n",
    "\n",
    "def make_map(projection=ccrs.PlateCarree()):\n",
    "    fig, ax = plt.subplots(figsize=(9, 13),\n",
    "                           subplot_kw=dict(projection=projection))\n",
    "    gl = ax.gridlines(draw_labels=True)\n",
    "    gl.xlabels_top = gl.ylabels_right = False\n",
    "    gl.xformatter = LONGITUDE_FORMATTER\n",
    "    gl.yformatter = LATITUDE_FORMATTER\n",
    "    return fig, ax"
   ]
  },
  {
   "cell_type": "code",
   "execution_count": null,
   "metadata": {},
   "outputs": [],
   "source": [
    "import cartopy.io.img_tiles as cimgt\n",
    "\n",
    "request = cimgt.OSM()  # Open Street Map\n",
    "\n",
    "pad_lat = 0.002\n",
    "pad_lon = 0.002\n",
    "\n",
    "extent = [lon_min - pad_lon, lon_max + pad_lon, lat_min - pad_lat, lat_max + pad_lat]\n",
    "\n",
    "fig, ax = make_map(projection=request.crs)\n",
    "ax.set_extent(extent)\n",
    "\n",
    "img = ax.add_image(request, 14)\n",
    "s = ax.add_geometries(shp, ccrs.PlateCarree(),\n",
    "                      facecolor='none',\n",
    "                      edgecolor='crimson',\n",
    "                      linewidth=2)"
   ]
  },
  {
   "cell_type": "code",
   "execution_count": null,
   "metadata": {},
   "outputs": [],
   "source": []
  }
 ],
 "metadata": {
  "kernelspec": {
   "display_name": "Python 3",
   "language": "python",
   "name": "python3"
  },
  "language_info": {
   "codemirror_mode": {
    "name": "ipython",
    "version": 3
   },
   "file_extension": ".py",
   "mimetype": "text/x-python",
   "name": "python",
   "nbconvert_exporter": "python",
   "pygments_lexer": "ipython3",
   "version": "3.12.2"
  }
 },
 "nbformat": 4,
 "nbformat_minor": 2
}
