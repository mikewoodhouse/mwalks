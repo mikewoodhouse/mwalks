{
 "cells": [
  {
   "cell_type": "code",
   "execution_count": null,
   "metadata": {},
   "outputs": [],
   "source": [
    "import fiona\n",
    "import math\n",
    "\n",
    "import numpy as np\n",
    "\n",
    "import matplotlib.pyplot as plt\n",
    "\n",
    "import cartopy.crs as ccrs\n",
    "from cartopy.io import shapereader\n",
    "from cartopy.mpl.gridliner import LONGITUDE_FORMATTER, LATITUDE_FORMATTER\n",
    "\n",
    "import cartopy.io.img_tiles as cimgt\n",
    "\n",
    "from haversine import distance"
   ]
  },
  {
   "cell_type": "code",
   "execution_count": null,
   "metadata": {},
   "outputs": [],
   "source": [
    "from shapely.geometry import shape\n",
    "\n",
    "class Route:\n",
    "    def __init__(self, filepath):\n",
    "        self.filepath = filepath\n",
    "        self.coordinates = None\n",
    "        self.bounds = None\n",
    "\n",
    "    @property\n",
    "    def coords(self):\n",
    "        if not self.coordinates:\n",
    "            self.load_file()\n",
    "        return self.coordinates\n",
    "\n",
    "    def shape(self):\n",
    "        data = {'type': 'MultiLineString', 'coordinates': self.coords}\n",
    "        return shape(data)\n",
    "\n",
    "    def load_file(self):\n",
    "        layer = fiona.open(self.filepath, layer='tracks')\n",
    "        self.bounds = layer.bounds\n",
    "        geom = layer[0]\n",
    "        self.coordinates = geom['geometry']['coordinates']"
   ]
  },
  {
   "cell_type": "code",
   "execution_count": null,
   "metadata": {},
   "outputs": [],
   "source": [
    "class Routes:\n",
    "    def __init__(self):\n",
    "        self.routes = []\n",
    "        self.bounds = [100.0, 100.0, -100.0, -100.0]\n",
    "\n",
    "    def add(self, route):\n",
    "        route.load_file()\n",
    "        self.routes.append(route)\n",
    "        self.bounds = [\n",
    "            min(self.bounds[0], route.bounds[0]),\n",
    "            min(self.bounds[1], route.bounds[1]),\n",
    "            max(self.bounds[2], route.bounds[2]),\n",
    "            max(self.bounds[3], route.bounds[3]),\n",
    "        ]\n"
   ]
  },
  {
   "cell_type": "code",
   "execution_count": null,
   "metadata": {},
   "outputs": [],
   "source": [
    "routes = Routes()\n",
    "\n",
    "from glob import glob\n",
    "\n",
    "for path in glob('routes/*.gpx'):\n",
    "    routes.add(Route(path))\n",
    "\n",
    "print(f'{len(routes.routes)} routes loaded')"
   ]
  },
  {
   "cell_type": "code",
   "execution_count": null,
   "metadata": {},
   "outputs": [],
   "source": [
    "def make_map(projection=ccrs.PlateCarree()):\n",
    "    fig, ax = plt.subplots(figsize=(12, 17),\n",
    "                           subplot_kw=dict(projection=projection))\n",
    "    gl = ax.gridlines(draw_labels=True)\n",
    "    gl.top_labels = gl.right_labels = False\n",
    "    gl.xformatter = LONGITUDE_FORMATTER\n",
    "    gl.yformatter = LATITUDE_FORMATTER\n",
    "    return fig, ax"
   ]
  },
  {
   "cell_type": "code",
   "execution_count": null,
   "metadata": {},
   "outputs": [],
   "source": [
    "image_factory = cimgt.OSM()  # Open Street Map\n",
    "\n",
    "pad_lat = 0.002\n",
    "pad_lon = 0.002\n",
    "\n",
    "lon_min, lat_min, lon_max, lat_max = routes.bounds\n",
    "extent = [lon_min - pad_lon, lon_max + pad_lon, lat_min - pad_lat, lat_max + pad_lat]\n",
    "\n",
    "fig, ax = make_map(projection=image_factory.crs)\n",
    "ax.set_extent(extent)\n",
    "\n",
    "# the second argument in that add_image() call is passed to the image_factory and is the \"target_z\".\n",
    "# see https://github.com/SciTools/cartopy/blob/master/lib/cartopy/io/img_tiles.py\n",
    "# OSM() inherits from GoogleWTS, which holds the image_for_domain() method, which is where\n",
    "# the 14 gets used.\n",
    "# target_z seems to be more \"zoom\" than (what I thought at first) \"z-order\"\n",
    "# 1-3, 5: no map\n",
    "# 4: some kind of blocks, quite large\n",
    "# 6: smaller blocks, noobvious pattern\n",
    "# 7: similar to 6, some green appearing\n",
    "# 12 seems to include a lot of place names, 13 has the names much smaller, while 14 makes then tiny\n",
    "img = ax.add_image(image_factory, 16)  \n",
    "\n",
    "def random_color():\n",
    "    return (0.5 * np.random.random_sample() + 0.25,\n",
    "            0.5 * np.random.random_sample() + 0.25,\n",
    "            0.5 * np.random.random_sample() + 0.25,)\n",
    "\n",
    "for route in routes.routes:\n",
    "    s = ax.add_geometries(route.shape(), ccrs.PlateCarree(),\n",
    "                        facecolor='none',\n",
    "                        edgecolor='blue', #(random_color()),\n",
    "                        linewidth=2)\n"
   ]
  },
  {
   "cell_type": "code",
   "execution_count": null,
   "metadata": {},
   "outputs": [],
   "source": [
    "print(routes.routes[0].coordinates)"
   ]
  },
  {
   "cell_type": "code",
   "execution_count": null,
   "metadata": {},
   "outputs": [],
   "source": []
  }
 ],
 "metadata": {
  "kernelspec": {
   "display_name": "Python 3",
   "language": "python",
   "name": "python3"
  },
  "language_info": {
   "codemirror_mode": {
    "name": "ipython",
    "version": 3
   },
   "file_extension": ".py",
   "mimetype": "text/x-python",
   "name": "python",
   "nbconvert_exporter": "python",
   "pygments_lexer": "ipython3",
   "version": "3.9.0"
  }
 },
 "nbformat": 4,
 "nbformat_minor": 2
}
