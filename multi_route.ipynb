{
 "metadata": {
  "language_info": {
   "codemirror_mode": {
    "name": "ipython",
    "version": 3
   },
   "file_extension": ".py",
   "mimetype": "text/x-python",
   "name": "python",
   "nbconvert_exporter": "python",
   "pygments_lexer": "ipython3",
   "version": "3.9.0-final"
  },
  "orig_nbformat": 2,
  "kernelspec": {
   "name": "python3",
   "display_name": "Python 3.9.0 64-bit ('venv': venv)",
   "metadata": {
    "interpreter": {
     "hash": "dcdc6befbc114da95632b725fe73bf5f7e4d75641e7b5f70df78edb54e236f6a"
    }
   }
  }
 },
 "nbformat": 4,
 "nbformat_minor": 2,
 "cells": [
  {
   "cell_type": "code",
   "execution_count": null,
   "metadata": {},
   "outputs": [],
   "source": [
    "import fiona\n",
    "import math\n",
    "\n",
    "import numpy as np\n",
    "\n",
    "import matplotlib.pyplot as plt\n",
    "\n",
    "import cartopy.crs as ccrs\n",
    "from cartopy.io import shapereader\n",
    "from cartopy.mpl.gridliner import LONGITUDE_FORMATTER, LATITUDE_FORMATTER\n",
    "\n",
    "import cartopy.io.img_tiles as cimgt\n",
    "\n",
    "from haversine import distance"
   ]
  },
  {
   "cell_type": "code",
   "execution_count": null,
   "metadata": {},
   "outputs": [],
   "source": [
    "from shapely.geometry import shape\n",
    "\n",
    "class Route:\n",
    "    def __init__(self, filepath):\n",
    "        self.filepath = filepath\n",
    "        self.coordinates = None\n",
    "        self.bounds = None\n",
    "\n",
    "    @property\n",
    "    def coords(self):\n",
    "        if not self.coordinates:\n",
    "            self.load_file()\n",
    "        return self.coordinates\n",
    "\n",
    "    def shape(self):\n",
    "        data = {'type': 'MultiLineString', 'coordinates': self.coords}\n",
    "        return shape(data)\n",
    "\n",
    "    def load_file(self):\n",
    "        layer = fiona.open(self.filepath, layer='tracks')\n",
    "        self.bounds = layer.bounds\n",
    "        geom = layer[0]\n",
    "        self.coordinates = geom['geometry']['coordinates']"
   ]
  },
  {
   "cell_type": "code",
   "execution_count": null,
   "metadata": {},
   "outputs": [],
   "source": [
    "class Routes:\n",
    "    def __init__(self):\n",
    "        self.routes = []\n",
    "        self.bounds = [100.0, 100.0, -100.0, -100.0]\n",
    "\n",
    "    def add(self, route):\n",
    "        route.load_file()\n",
    "        self.routes.append(route)\n",
    "        self.bounds = [\n",
    "            min(self.bounds[0], route.bounds[0]),\n",
    "            min(self.bounds[1], route.bounds[1]),\n",
    "            max(self.bounds[2], route.bounds[2]),\n",
    "            max(self.bounds[3], route.bounds[3]),\n",
    "        ]\n"
   ]
  },
  {
   "cell_type": "code",
   "execution_count": null,
   "metadata": {},
   "outputs": [],
   "source": [
    "routes = Routes()\n",
    "\n",
    "from glob import glob\n",
    "\n",
    "for path in glob('routes/*.gpx'):\n",
    "    routes.add(Route(path))\n",
    "\n",
    "print(f'{len(routes.routes)} routes loaded')"
   ]
  },
  {
   "cell_type": "code",
   "execution_count": null,
   "metadata": {},
   "outputs": [],
   "source": [
    "def make_map(projection=ccrs.PlateCarree()):\n",
    "    fig, ax = plt.subplots(figsize=(9, 13),\n",
    "                           subplot_kw=dict(projection=projection))\n",
    "    gl = ax.gridlines(draw_labels=True)\n",
    "    gl.xlabels_top = gl.ylabels_right = False\n",
    "    gl.xformatter = LONGITUDE_FORMATTER\n",
    "    gl.yformatter = LATITUDE_FORMATTER\n",
    "    return fig, ax"
   ]
  },
  {
   "cell_type": "code",
   "execution_count": null,
   "metadata": {},
   "outputs": [],
   "source": [
    "request = cimgt.OSM()  # Open Street Map\n",
    "\n",
    "pad_lat = 0.002\n",
    "pad_lon = 0.002\n",
    "\n",
    "lon_min, lat_min, lon_max, lat_max = routes.bounds\n",
    "extent = [lon_min - pad_lon, lon_max + pad_lon, lat_min - pad_lat, lat_max + pad_lat]\n",
    "\n",
    "fig, ax = make_map(projection=request.crs)\n",
    "ax.set_extent(extent)\n",
    "\n",
    "img = ax.add_image(request, 14)\n",
    "\n",
    "def random_color():\n",
    "    return (0.5 * np.random.random_sample() + 0.25,\n",
    "            0.5 * np.random.random_sample() + 0.25,\n",
    "            0.5 * np.random.random_sample() + 0.25,)\n",
    "\n",
    "for route in routes.routes:\n",
    "    s = ax.add_geometries(route.shape(), ccrs.PlateCarree(),\n",
    "                        facecolor='none',\n",
    "                        edgecolor=(random_color()),\n",
    "                        linewidth=2)\n"
   ]
  },
  {
   "cell_type": "code",
   "execution_count": null,
   "metadata": {},
   "outputs": [],
   "source": []
  }
 ]
}