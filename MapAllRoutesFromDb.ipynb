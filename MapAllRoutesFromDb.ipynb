{
 "cells": [
  {
   "cell_type": "code",
   "execution_count": null,
   "id": "every-portfolio",
   "metadata": {
    "ExecuteTime": {
     "end_time": "2021-07-28T11:36:31.465904Z",
     "start_time": "2021-07-28T11:36:28.505283Z"
    }
   },
   "outputs": [],
   "source": [
    "import matplotlib.pyplot as plt\n",
    "\n",
    "import cartopy.crs as ccrs\n",
    "import numpy as np\n",
    "from cartopy.mpl.gridliner import LONGITUDE_FORMATTER, LATITUDE_FORMATTER\n",
    "\n",
    "import cartopy.io.img_tiles as cimgt"
   ]
  },
  {
   "cell_type": "code",
   "execution_count": null,
   "id": "directed-enclosure",
   "metadata": {
    "ExecuteTime": {
     "end_time": "2021-07-28T11:36:32.285023Z",
     "start_time": "2021-07-28T11:36:31.465904Z"
    }
   },
   "outputs": [],
   "source": [
    "from db_routes import load_routes_from_db\n",
    "\n",
    "routes = load_routes_from_db()"
   ]
  },
  {
   "cell_type": "code",
   "execution_count": null,
   "id": "moving-librarian",
   "metadata": {
    "ExecuteTime": {
     "end_time": "2021-07-28T11:36:32.301026Z",
     "start_time": "2021-07-28T11:36:32.285023Z"
    }
   },
   "outputs": [],
   "source": [
    "def make_map(projection=ccrs.PlateCarree()):\n",
    "    fig, ax = plt.subplots(figsize=(12, 17),\n",
    "                           subplot_kw=dict(projection=projection))\n",
    "    gl = ax.gridlines(draw_labels=True)\n",
    "    gl.top_labels = gl.right_labels = False\n",
    "    gl.xformatter = LONGITUDE_FORMATTER\n",
    "    gl.yformatter = LATITUDE_FORMATTER\n",
    "    return fig, ax"
   ]
  },
  {
   "cell_type": "code",
   "execution_count": null,
   "id": "advanced-backup",
   "metadata": {
    "ExecuteTime": {
     "end_time": "2021-07-28T11:36:32.313028Z",
     "start_time": "2021-07-28T11:36:32.305685Z"
    }
   },
   "outputs": [],
   "source": [
    "def bounds(rts):\n",
    "    return (\n",
    "        min(rt.bounds[0] for rt in rts.values()),\n",
    "        min(rt.bounds[1] for rt in rts.values()),\n",
    "        max(rt.bounds[2] for rt in rts.values()),\n",
    "        max(rt.bounds[3] for rt in rts.values()),\n",
    "        )"
   ]
  },
  {
   "cell_type": "code",
   "execution_count": null,
   "id": "advance-setting",
   "metadata": {
    "ExecuteTime": {
     "end_time": "2021-07-28T11:37:03.623981Z",
     "start_time": "2021-07-28T11:36:32.313028Z"
    }
   },
   "outputs": [],
   "source": [
    "image_factory = cimgt.OSM()  # Open Street Map\n",
    "\n",
    "pad_lat = 0.002\n",
    "pad_lon = 0.002\n",
    "\n",
    "lon_min, lat_min, lon_max, lat_max = bounds(routes)\n",
    "extent = [lon_min - pad_lon, lon_max + pad_lon, lat_min - pad_lat, lat_max + pad_lat]\n",
    "\n",
    "fig, ax = make_map(projection=image_factory.crs)\n",
    "ax.set_extent(extent)\n",
    "\n",
    "# the second argument in that add_image() call is passed to the image_factory and is the \"target_z\".\n",
    "# see https://github.com/SciTools/cartopy/blob/master/lib/cartopy/io/img_tiles.py\n",
    "# OSM() inherits from GoogleWTS, which holds the image_for_domain() method, which is where\n",
    "# the 14 gets used.\n",
    "# target_z seems to be more \"zoom\" than (what I thought at first) \"z-order\"\n",
    "# 1-3, 5: no map\n",
    "# 4: some kind of blocks, quite large\n",
    "# 6: smaller blocks, noobvious pattern\n",
    "# 7: similar to 6, some green appearing\n",
    "# 12 seems to include a lot of place names, 13 has the names much smaller, while 14 makes then tiny\n",
    "img = ax.add_image(image_factory, 16)\n",
    "\n",
    "def random_color():\n",
    "    return (0.5 * np.random.random_sample() + 0.25,\n",
    "            0.5 * np.random.random_sample() + 0.25,\n",
    "            0.5 * np.random.random_sample() + 0.25,)\n",
    "\n",
    "for route in routes.values():\n",
    "    s = ax.add_geometries(route.shape, ccrs.PlateCarree(),\n",
    "                        facecolor='none',\n",
    "                        edgecolor='blue', #(random_color()),\n",
    "                        linewidth=2)"
   ]
  },
  {
   "cell_type": "code",
   "execution_count": null,
   "id": "presidential-customer",
   "metadata": {},
   "outputs": [],
   "source": []
  }
 ],
 "metadata": {
  "kernelspec": {
   "display_name": "Python 3",
   "language": "python",
   "name": "python3"
  },
  "language_info": {
   "codemirror_mode": {
    "name": "ipython",
    "version": 3
   },
   "file_extension": ".py",
   "mimetype": "text/x-python",
   "name": "python",
   "nbconvert_exporter": "python",
   "pygments_lexer": "ipython3",
   "version": "3.12.2"
  }
 },
 "nbformat": 4,
 "nbformat_minor": 5
}
