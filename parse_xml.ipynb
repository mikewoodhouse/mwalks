{
 "metadata": {
  "language_info": {
   "codemirror_mode": {
    "name": "ipython",
    "version": 3
   },
   "file_extension": ".py",
   "mimetype": "text/x-python",
   "name": "python",
   "nbconvert_exporter": "python",
   "pygments_lexer": "ipython3",
   "version": "3.9.0-final"
  },
  "orig_nbformat": 2,
  "kernelspec": {
   "name": "python3",
   "display_name": "Python 3",
   "language": "python"
  }
 },
 "nbformat": 4,
 "nbformat_minor": 2,
 "cells": [
  {
   "cell_type": "code",
   "execution_count": null,
   "metadata": {},
   "outputs": [],
   "source": [
    "import xml.etree.ElementTree as ET"
   ]
  },
  {
   "cell_type": "code",
   "execution_count": null,
   "metadata": {},
   "outputs": [],
   "source": [
    "root = ET.parse('routes/Route from 2021-02-17 09 01_20210217090145.gpx').getroot()"
   ]
  },
  {
   "cell_type": "code",
   "execution_count": null,
   "metadata": {},
   "outputs": [],
   "source": [
    "pts = root.findall('.//{http://www.topografix.com/GPX/1/1}trkpt')\n",
    "for pt in pts:\n",
    "    lat = float(pt.attrib['lat'])\n",
    "    lon = float(pt.attrib['lon'])\n",
    "    ele = float(pt.find('{http://www.topografix.com/GPX/1/1}ele').text)\n",
    "    time = pt.find('{http://www.topografix.com/GPX/1/1}time').text\n",
    "    print(lat, lon, ele, time)\n",
    "    break"
   ]
  },
  {
   "cell_type": "code",
   "execution_count": null,
   "metadata": {},
   "outputs": [],
   "source": []
  }
 ]
}