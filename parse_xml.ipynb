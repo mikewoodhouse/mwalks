{
 "metadata": {
  "language_info": {
   "codemirror_mode": {
    "name": "ipython",
    "version": 3
   },
   "file_extension": ".py",
   "mimetype": "text/x-python",
   "name": "python",
   "nbconvert_exporter": "python",
   "pygments_lexer": "ipython3",
   "version": "3.9.0-final"
  },
  "orig_nbformat": 2,
  "kernelspec": {
   "name": "python3",
   "display_name": "Python 3",
   "language": "python"
  }
 },
 "nbformat": 4,
 "nbformat_minor": 2,
 "cells": [
  {
   "cell_type": "code",
   "execution_count": null,
   "metadata": {},
   "outputs": [],
   "source": [
    "import xml.etree.ElementTree as ET\n",
    "import dateutil.parser\n",
    "import math"
   ]
  },
  {
   "cell_type": "code",
   "execution_count": null,
   "metadata": {},
   "outputs": [],
   "source": [
    "import haversine\n",
    "\n",
    "class TrackPoint:\n",
    "    def __init__(self, pt):\n",
    "        self.lat = float(pt.attrib['lat'])\n",
    "        self.lon = float(pt.attrib['lon'])\n",
    "        self.ele = float(pt.find('{http://www.topografix.com/GPX/1/1}ele').text)\n",
    "        self.date_time = pt.find('{http://www.topografix.com/GPX/1/1}time').text\n",
    "        self.dt = dateutil.parser.parse(self.date_time)\n",
    "\n",
    "    @property\n",
    "    def coord(self):\n",
    "        return (self.lon, self.lat)\n",
    "\n",
    "    def to_sql(self, prev_pt):\n",
    "        secs = 0.0\n",
    "        dist = 0.0\n",
    "        xdist = 0.0\n",
    "        if prev_pt:\n",
    "            secs = (self.dt - prev_pt.dt).total_seconds()\n",
    "            dist = haversine.distance(self.coord, prev_pt.coord)\n",
    "            delta_ele = self.ele - prev_pt.ele\n",
    "            xdist = math.sqrt((dist * dist + delta_ele * delta_ele))\n",
    "        return (self.date_time, self.lat, self.lon, self.ele, str(self.dt.date()), secs, dist, xdist)\n",
    "\n",
    "    def __repr__(self):\n",
    "            return f'{self.date_time}, ({self.lat}, {self.lon}), {self.ele}m'\n"
   ]
  },
  {
   "cell_type": "code",
   "execution_count": null,
   "metadata": {},
   "outputs": [],
   "source": [
    "class RouteParser:\n",
    "    def __init__(self, path):\n",
    "        root = ET.parse(path).getroot()\n",
    "        self.pts = [TrackPoint(pt) for pt in root.findall('.//{http://www.topografix.com/GPX/1/1}trkpt')]"
   ]
  },
  {
   "cell_type": "code",
   "execution_count": null,
   "metadata": {},
   "outputs": [],
   "source": [
    "import itertools\n",
    "import sqlite3\n",
    "\n",
    "def pairwise(iterable):\n",
    "    prev_item = None\n",
    "    for current_item in iterable:\n",
    "        yield (current_item, prev_item)\n",
    "        prev_item = current_item\n",
    "\n",
    "class TrackPointDbBuilder:\n",
    "    def __init__(self, db_path='mwalks.sqlite'):\n",
    "        self.db_path = db_path\n",
    "\n",
    "    def create_db(self):\n",
    "        self.connect()\n",
    "        self.conn.execute('DROP TABLE IF EXISTS points')\n",
    "        sql = '''CREATE TABLE points (\n",
    "            datetime_text TEXT,\n",
    "            lat REAL,\n",
    "            lon REAL,\n",
    "            ele REAL,\n",
    "            dt DATE,\n",
    "            elapsed_secs REAL,\n",
    "            distance REAL,\n",
    "            xdistance REAL\n",
    "        )'''\n",
    "        self.conn.execute(sql)\n",
    "        self.disconnect()\n",
    "\n",
    "    def put_points(self, pts):\n",
    "        insert_points = [curr_pt.to_sql(prev_pt) for curr_pt, prev_pt in pairwise(pts)]    \n",
    "        conn = self.connect()\n",
    "        csr = conn.cursor()\n",
    "        sql = 'INSERT INTO points VALUES (?, ?, ?, ?, ?, ?, ?, ?)'\n",
    "        res = csr.executemany(sql, insert_points)\n",
    "        csr.close()\n",
    "        conn.commit() \n",
    "        self.disconnect()  \n",
    "\n",
    "    def connect(self):\n",
    "        self.conn = sqlite3.connect(self.db_path)\n",
    "        return self.conn\n",
    "\n",
    "    def disconnect(self):\n",
    "        self.conn.close()"
   ]
  },
  {
   "cell_type": "code",
   "execution_count": null,
   "metadata": {},
   "outputs": [],
   "source": [
    "builder = TrackPointDbBuilder()\n",
    "builder.create_db()"
   ]
  },
  {
   "cell_type": "code",
   "execution_count": null,
   "metadata": {},
   "outputs": [],
   "source": [
    "from glob import glob\n",
    "\n",
    "for path in glob('routes/*.gpx'):\n",
    "    route = RouteParser(path)\n",
    "    builder.put_points(route.pts)"
   ]
  }
 ]
}