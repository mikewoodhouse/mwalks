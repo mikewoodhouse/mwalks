{
 "cells": [
  {
   "cell_type": "code",
   "execution_count": 14,
   "metadata": {},
   "outputs": [
    {
     "name": "stdout",
     "output_type": "stream",
     "text": [
      "The autoreload extension is already loaded. To reload it, use:\n",
      "  %reload_ext autoreload\n"
     ]
    }
   ],
   "source": [
    "%load_ext autoreload\n",
    "%autoreload 2"
   ]
  },
  {
   "cell_type": "code",
   "execution_count": 15,
   "metadata": {},
   "outputs": [],
   "source": [
    "from walks import Route, Point, Segment"
   ]
  },
  {
   "cell_type": "code",
   "execution_count": 16,
   "metadata": {},
   "outputs": [],
   "source": [
    "from collections import defaultdict\n",
    "import statistics"
   ]
  },
  {
   "cell_type": "code",
   "execution_count": 17,
   "metadata": {},
   "outputs": [],
   "source": [
    "import matplotlib.pyplot as plt\n",
    "import cartopy.crs as ccrs\n",
    "import cartopy.io.img_tiles as cimgt\n",
    "from cartopy.mpl.gridliner import LONGITUDE_FORMATTER, LATITUDE_FORMATTER"
   ]
  },
  {
   "cell_type": "code",
   "execution_count": 19,
   "metadata": {},
   "outputs": [],
   "source": [
    "from db_routes import load_routes_from_db"
   ]
  },
  {
   "cell_type": "code",
   "execution_count": 20,
   "metadata": {},
   "outputs": [],
   "source": [
    "requested_map = cimgt.OSM()  # Open Street Map"
   ]
  },
  {
   "cell_type": "code",
   "execution_count": 21,
   "metadata": {
    "tags": []
   },
   "outputs": [
    {
     "name": "stdout",
     "output_type": "stream",
     "text": [
      "57563\n",
      "(0.054034, 51.377139, 0.184897, 51.462176)\n",
      "Route 70: 1105 points, distance: 7.408km = 4.60mi, 4501.88 sec = 3.68 mph\n",
      "Route 71: 950 points, distance: 6.200km = 3.85mi, 3680.46 sec = 3.77 mph\n",
      "Route 72: 1444 points, distance: 9.774km = 6.07mi, 6059.22 sec = 3.61 mph\n",
      "Route 73: 1118 points, distance: 7.413km = 4.61mi, 4338.00 sec = 3.82 mph\n",
      "Route 74: 1222 points, distance: 8.746km = 5.43mi, 5294.27 sec = 3.70 mph\n",
      "Route 75: 1019 points, distance: 7.209km = 4.48mi, 4334.18 sec = 3.72 mph\n"
     ]
    }
   ],
   "source": [
    "routes = load_routes_from_db()\n",
    "\n",
    "for route_id in range(len(routes) - 5, len(routes) + 1):\n",
    "    rt = routes[route_id]\n",
    "    print(f'Route {route_id}: {len(rt.points)} points, distance: {rt.metres() / 1000:.3f}km = {rt.miles():.2f}mi, {rt.time():.2f} sec = {rt.avg_mph():.2f} mph')    \n"
   ]
  },
  {
   "cell_type": "code",
   "execution_count": null,
   "metadata": {},
   "outputs": [],
   "source": [
    "def locs_at(mins):\n",
    "    pts = [rt.point_at(mins * 60) for rt in routes.values()]\n",
    "\n",
    "    lons = [pt.lon for pt in pts if pt]\n",
    "    lats = [pt.lat for pt in pts if pt]\n",
    "\n",
    "    return (lons, lats)"
   ]
  },
  {
   "cell_type": "code",
   "execution_count": null,
   "metadata": {},
   "outputs": [],
   "source": [
    "fig, ax = plt.subplots(figsize=(20, 20), subplot_kw=dict(projection=requested_map.crs))\n",
    "\n",
    "gl = ax.gridlines(draw_labels=True)\n",
    "gl.top_labels = gl.right_labels = False\n",
    "gl.xformatter = LONGITUDE_FORMATTER\n",
    "gl.yformatter = LATITUDE_FORMATTER\n",
    "\n",
    "pad_lat = 0.002\n",
    "pad_lon = 0.002\n",
    "\n",
    "lon_min, lat_min, lon_max, lat_max = route_bounds\n",
    "extent = [lon_min - pad_lon, lon_max + pad_lon, lat_min - pad_lat, lat_max + pad_lat]\n",
    "\n",
    "ax.set_extent(extent)\n",
    "\n",
    "ax.add_image(requested_map, 14)\n",
    "\n",
    "lons, lats = locs_at(15)\n",
    "plt.scatter(lons, lats, color='aqua', s=100, alpha=1, transform=ccrs.PlateCarree())\n",
    "\n",
    "lons, lats = locs_at(30)\n",
    "plt.scatter(lons, lats, color='indigo', s=100, alpha=1, transform=ccrs.PlateCarree())\n",
    "\n",
    "lons, lats = locs_at(45)\n",
    "plt.scatter(lons, lats, color='red', s=100, alpha=1, transform=ccrs.PlateCarree())\n",
    "\n",
    "avg_start_lon = statistics.mean(rt.points[0].lon for rt in routes.values())\n",
    "avg_start_lat = statistics.mean(rt.points[0].lat for rt in routes.values())\n",
    "plt.scatter([avg_start_lon], [avg_start_lat], color='lime', s=1000, alpha=1, marker='o', transform=ccrs.PlateCarree())\n",
    "\n",
    "plt.title(f'After 15, 30, 45 minutes')\n",
    "\n",
    "plt.show()"
   ]
  },
  {
   "cell_type": "code",
   "execution_count": null,
   "metadata": {},
   "outputs": [],
   "source": [
    "lons = [p.lon for p in points]\n",
    "lats = [p.lat for p in points]\n",
    "eles = [p.ele for p in points]\n",
    "min_ele = min(eles)\n",
    "max_ele = max(eles)"
   ]
  },
  {
   "cell_type": "code",
   "execution_count": null,
   "metadata": {},
   "outputs": [],
   "source": [
    "def col_for(e, min_e, max_e):\n",
    "    index = (e - min_e) / (max_e - min_e)\n",
    "    return (index, index, index)\n",
    "    \n",
    "cols = [col_for(e, min_ele, max_ele) for e in eles]"
   ]
  },
  {
   "cell_type": "code",
   "execution_count": null,
   "metadata": {},
   "outputs": [],
   "source": [
    "fig, ax = plt.subplots(figsize=(20, 20), subplot_kw=dict(projection=requested_map.crs))\n",
    "\n",
    "gl = ax.gridlines(draw_labels=True)\n",
    "gl.top_labels = gl.right_labels = False\n",
    "gl.xformatter = LONGITUDE_FORMATTER\n",
    "gl.yformatter = LATITUDE_FORMATTER\n",
    "\n",
    "pad_lat = 0.002\n",
    "pad_lon = 0.002\n",
    "\n",
    "lon_min, lat_min, lon_max, lat_max = route_bounds\n",
    "extent = [lon_min - pad_lon, lon_max + pad_lon, lat_min - pad_lat, lat_max + pad_lat]\n",
    "\n",
    "ax.set_extent(extent)\n",
    "\n",
    "ax.add_image(requested_map, 14)\n",
    "\n",
    "plt.scatter(lons, lats, color=cols, s=50, alpha=1, transform=ccrs.PlateCarree())\n",
    "\n",
    "plt.title(f'Elevations')\n",
    "\n",
    "plt.show()"
   ]
  },
  {
   "cell_type": "code",
   "execution_count": null,
   "metadata": {},
   "outputs": [],
   "source": [
    "print(len(lons), len(lats), len(cols), len(points))"
   ]
  }
 ],
 "metadata": {
  "kernelspec": {
   "display_name": "Python 3",
   "language": "python",
   "name": "python3"
  },
  "language_info": {
   "codemirror_mode": {
    "name": "ipython",
    "version": 3
   },
   "file_extension": ".py",
   "mimetype": "text/x-python",
   "name": "python",
   "nbconvert_exporter": "python",
   "pygments_lexer": "ipython3",
   "version": "3.9.0"
  }
 },
 "nbformat": 4,
 "nbformat_minor": 2
}
