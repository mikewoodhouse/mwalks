{
 "cells": [
  {
   "cell_type": "code",
   "execution_count": null,
   "metadata": {},
   "outputs": [],
   "source": [
    "%load_ext autoreload\n",
    "%autoreload 2"
   ]
  },
  {
   "cell_type": "code",
   "execution_count": null,
   "metadata": {},
   "outputs": [],
   "source": [
    "from walks import Route, Point, Segment"
   ]
  },
  {
   "cell_type": "code",
   "execution_count": null,
   "metadata": {},
   "outputs": [],
   "source": [
    "import sqlite3\n",
    "from collections import defaultdict\n",
    "import statistics"
   ]
  },
  {
   "cell_type": "code",
   "execution_count": null,
   "metadata": {},
   "outputs": [],
   "source": [
    "import matplotlib.pyplot as plt\n",
    "import cartopy.crs as ccrs\n",
    "import cartopy.io.img_tiles as cimgt\n",
    "from cartopy.mpl.gridliner import LONGITUDE_FORMATTER, LATITUDE_FORMATTER"
   ]
  },
  {
   "cell_type": "code",
   "execution_count": null,
   "metadata": {},
   "outputs": [],
   "source": [
    "conn = sqlite3.connect('mwalks.sqlite')\n",
    "\n",
    "points = conn.execute(\"\"\"\n",
    "    SELECT\n",
    "        point_id\n",
    "    ,   route_id\n",
    "    ,   Cast(strftime('%H', dt) AS INTEGER) * 3600\n",
    "      + Cast(strftime('%M', dt) AS INTEGER) * 60\n",
    "      + Cast(strftime('%f', dt) AS REAL) AS secs\n",
    "    ,   lat\n",
    "    ,   lon\n",
    "    ,   ele\n",
    "    FROM points ORDER BY route_id, point_id\n",
    "\"\"\").fetchall()\n",
    "print(len(points))\n",
    "\n",
    "route_bounds = conn.execute('SELECT Min(lon), Min(lat), Max(lon), Max(lat) FROM points').fetchone()\n",
    "print(route_bounds)\n",
    "\n",
    "conn.close()"
   ]
  },
  {
   "cell_type": "code",
   "execution_count": null,
   "metadata": {},
   "outputs": [],
   "source": [
    "requested_map = cimgt.OSM()  # Open Street Map"
   ]
  },
  {
   "cell_type": "code",
   "execution_count": null,
   "metadata": {
    "tags": []
   },
   "outputs": [],
   "source": [
    "routes = defaultdict(Route)\n",
    "for pt in [Point(*p) for p in points]:\n",
    "    routes[pt.route_id].add_point(pt)\n",
    "for route_id in range(len(routes) - 5, len(routes) + 1):\n",
    "    rt = routes[route_id]\n",
    "    print(f'Route {route_id}: {len(rt.points)} points, distance: {rt.metres() / 1000:.3f}km = {rt.miles():.2f}mi, {rt.time():.2f} sec = {rt.avg_mph():.2f} mph')    \n"
   ]
  },
  {
   "cell_type": "code",
   "execution_count": null,
   "metadata": {},
   "outputs": [],
   "source": [
    "def locs_at(mins):\n",
    "    pts = [rt.point_at(mins * 60) for rt in routes.values()]\n",
    "\n",
    "    lons = [pt.lon for pt in pts if pt]\n",
    "    lats = [pt.lat for pt in pts if pt]\n",
    "\n",
    "    return (lons, lats)"
   ]
  },
  {
   "cell_type": "code",
   "execution_count": null,
   "metadata": {},
   "outputs": [],
   "source": [
    "fig, ax = plt.subplots(figsize=(20, 20), subplot_kw=dict(projection=requested_map.crs))\n",
    "\n",
    "gl = ax.gridlines(draw_labels=True)\n",
    "gl.top_labels = gl.right_labels = False\n",
    "gl.xformatter = LONGITUDE_FORMATTER\n",
    "gl.yformatter = LATITUDE_FORMATTER\n",
    "\n",
    "pad_lat = 0.002\n",
    "pad_lon = 0.002\n",
    "\n",
    "lon_min, lat_min, lon_max, lat_max = route_bounds\n",
    "extent = [lon_min - pad_lon, lon_max + pad_lon, lat_min - pad_lat, lat_max + pad_lat]\n",
    "\n",
    "ax.set_extent(extent)\n",
    "\n",
    "ax.add_image(requested_map, 14)\n",
    "\n",
    "lons, lats = locs_at(15)\n",
    "plt.scatter(lons, lats, color='aqua', s=4, alpha=1, transform=ccrs.PlateCarree())\n",
    "\n",
    "lons, lats = locs_at(30)\n",
    "plt.scatter(lons, lats, color='indigo', s=4, alpha=1, transform=ccrs.PlateCarree())\n",
    "\n",
    "lons, lats = locs_at(45)\n",
    "plt.scatter(lons, lats, color='red', s=4, alpha=1, transform=ccrs.PlateCarree())\n",
    "\n",
    "avg_start_lon = statistics.mean(rt.points[0].lon for rt in routes.values())\n",
    "avg_start_lat = statistics.mean(rt.points[0].lat for rt in routes.values())\n",
    "plt.scatter([avg_start_lon], [avg_start_lat], color='green', s=30, alpha=1, marker='x', transform=ccrs.PlateCarree())\n",
    "\n",
    "plt.title(f'After 15, 30, 45 minutes')\n",
    "\n",
    "plt.show()"
   ]
  },
  {
   "cell_type": "code",
   "execution_count": null,
   "metadata": {},
   "outputs": [],
   "source": []
  }
 ],
 "metadata": {
  "kernelspec": {
   "display_name": "Python 3",
   "language": "python",
   "name": "python3"
  },
  "language_info": {
   "codemirror_mode": {
    "name": "ipython",
    "version": 3
   },
   "file_extension": ".py",
   "mimetype": "text/x-python",
   "name": "python",
   "nbconvert_exporter": "python",
   "pygments_lexer": "ipython3",
   "version": "3.9.0"
  }
 },
 "nbformat": 4,
 "nbformat_minor": 2
}
