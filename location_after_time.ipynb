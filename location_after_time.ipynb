{
 "cells": [
  {
   "cell_type": "code",
   "execution_count": null,
   "metadata": {},
   "outputs": [],
   "source": [
    "%load_ext autoreload\n",
    "%autoreload 2"
   ]
  },
  {
   "cell_type": "code",
   "execution_count": null,
   "metadata": {},
   "outputs": [],
   "source": [
    "from walks import Route, Point, Segment"
   ]
  },
  {
   "cell_type": "code",
   "execution_count": null,
   "metadata": {},
   "outputs": [],
   "source": [
    "from collections import defaultdict\n",
    "from datetime import date\n",
    "import statistics"
   ]
  },
  {
   "cell_type": "code",
   "execution_count": null,
   "metadata": {},
   "outputs": [],
   "source": [
    "import matplotlib.pyplot as plt\n",
    "import cartopy.crs as ccrs\n",
    "import cartopy.io.img_tiles as cimgt\n",
    "from cartopy.mpl.gridliner import LONGITUDE_FORMATTER, LATITUDE_FORMATTER"
   ]
  },
  {
   "cell_type": "code",
   "execution_count": null,
   "metadata": {},
   "outputs": [],
   "source": [
    "from db_routes import load_routes_from_db"
   ]
  },
  {
   "cell_type": "code",
   "execution_count": null,
   "metadata": {},
   "outputs": [],
   "source": [
    "requested_map = cimgt.OSM()  # Open Street Map"
   ]
  },
  {
   "cell_type": "code",
   "execution_count": null,
   "metadata": {
    "tags": []
   },
   "outputs": [],
   "source": [
    "routes = load_routes_from_db()\n",
    "\n",
    "route_bounds = (1000, 1000, -1000, -1000)\n",
    "\n",
    "from_date = date(2020, 10, 1)\n",
    "print(f'applying {from_date=}')\n",
    "unwanted_route_ids = [rt_id for rt_id, rt in routes.items() if rt.walk_date < from_date]\n",
    "for rt_id in unwanted_route_ids:\n",
    "    routes.pop(rt_id)\n",
    "\n",
    "for rt in routes.values():\n",
    "    print(rt.walk_date, type(rt.walk_date))\n",
    "    bnds = rt.bounds\n",
    "    route_bounds = (\n",
    "        min(route_bounds[0], bnds[0]),\n",
    "        min(route_bounds[1], bnds[1]),\n",
    "        max(route_bounds[2], bnds[2]),\n",
    "        max(route_bounds[3], bnds[3]),\n",
    "    )\n",
    "    \n",
    "print(f'{len(routes)} routes loaded for mapping')"
   ]
  },
  {
   "cell_type": "code",
   "execution_count": null,
   "metadata": {},
   "outputs": [],
   "source": [
    "def locs_at(mins):\n",
    "    pts = [rt.point_at(mins * 60) for rt in routes.values()]\n",
    "\n",
    "    lons = [pt.lon for pt in pts if pt]\n",
    "    lats = [pt.lat for pt in pts if pt]\n",
    "\n",
    "    return (lons, lats)"
   ]
  },
  {
   "cell_type": "code",
   "execution_count": null,
   "metadata": {},
   "outputs": [],
   "source": [
    "fig, ax = plt.subplots(figsize=(20, 20), subplot_kw=dict(projection=requested_map.crs))\n",
    "\n",
    "gl = ax.gridlines(draw_labels=True)\n",
    "gl.top_labels = gl.right_labels = False\n",
    "gl.xformatter = LONGITUDE_FORMATTER\n",
    "gl.yformatter = LATITUDE_FORMATTER\n",
    "\n",
    "pad_lat = 0.002\n",
    "pad_lon = 0.002\n",
    "\n",
    "lon_min, lat_min, lon_max, lat_max = route_bounds\n",
    "extent = [lon_min - pad_lon, lon_max + pad_lon, lat_min - pad_lat, lat_max + pad_lat]\n",
    "\n",
    "ax.set_extent(extent)\n",
    "\n",
    "ax.add_image(requested_map, 14)\n",
    "\n",
    "lons, lats = locs_at(15)\n",
    "plt.scatter(lons, lats, color='aqua', s=100, alpha=1, transform=ccrs.PlateCarree())\n",
    "\n",
    "lons, lats = locs_at(30)\n",
    "plt.scatter(lons, lats, color='indigo', s=100, alpha=1, transform=ccrs.PlateCarree())\n",
    "\n",
    "lons, lats = locs_at(45)\n",
    "plt.scatter(lons, lats, color='red', s=100, alpha=1, transform=ccrs.PlateCarree())\n",
    "\n",
    "avg_start_lon = statistics.mean(rt.points[0].lon for rt in routes.values())\n",
    "avg_start_lat = statistics.mean(rt.points[0].lat for rt in routes.values())\n",
    "plt.scatter([avg_start_lon], [avg_start_lat], color='lime', s=1000, alpha=1, marker='o', transform=ccrs.PlateCarree())\n",
    "\n",
    "plt.title(f'After 15, 30, 45 minutes')\n",
    "\n",
    "plt.show()"
   ]
  },
  {
   "cell_type": "code",
   "execution_count": null,
   "metadata": {},
   "outputs": [],
   "source": [
    "print(f'considering {len(routes)} routes')\n",
    "points = [pt for rt in routes.values() for pt in rt.points]      \n",
    "print(f'extracted {len(points)} points')"
   ]
  },
  {
   "cell_type": "code",
   "execution_count": null,
   "metadata": {},
   "outputs": [],
   "source": [
    "lons = [p.lon for p in points]\n",
    "lats = [p.lat for p in points]\n",
    "eles = [p.ele for p in points]\n",
    "min_ele = min(eles)\n",
    "max_ele = max(eles)"
   ]
  },
  {
   "cell_type": "code",
   "execution_count": null,
   "metadata": {},
   "outputs": [],
   "source": [
    "def col_for(e, min_e, max_e):\n",
    "    index = (e - min_e) / (max_e - min_e)\n",
    "    return (index, index, index)\n",
    "    \n",
    "cols = [col_for(e, min_ele, max_ele) for e in eles]"
   ]
  },
  {
   "cell_type": "code",
   "execution_count": null,
   "metadata": {},
   "outputs": [],
   "source": [
    "fig, ax = plt.subplots(figsize=(20, 20), subplot_kw=dict(projection=requested_map.crs))\n",
    "\n",
    "gl = ax.gridlines(draw_labels=True)\n",
    "gl.top_labels = gl.right_labels = False\n",
    "gl.xformatter = LONGITUDE_FORMATTER\n",
    "gl.yformatter = LATITUDE_FORMATTER\n",
    "\n",
    "pad_lat = 0.002\n",
    "pad_lon = 0.002\n",
    "\n",
    "lon_min, lat_min, lon_max, lat_max = route_bounds\n",
    "extent = [lon_min - pad_lon, lon_max + pad_lon, lat_min - pad_lat, lat_max + pad_lat]\n",
    "\n",
    "ax.set_extent(extent)\n",
    "\n",
    "ax.add_image(requested_map, 14)\n",
    "\n",
    "plt.scatter(lons, lats, color=cols, s=50, alpha=1, transform=ccrs.PlateCarree())\n",
    "\n",
    "plt.title(f'Elevations')\n",
    "\n",
    "plt.show()"
   ]
  },
  {
   "cell_type": "code",
   "execution_count": null,
   "metadata": {},
   "outputs": [],
   "source": [
    "print(len(lons), len(lats), len(cols), len(points))"
   ]
  },
  {
   "cell_type": "code",
   "execution_count": null,
   "metadata": {},
   "outputs": [],
   "source": []
  }
 ],
 "metadata": {
  "kernelspec": {
   "display_name": "Python 3",
   "language": "python",
   "name": "python3"
  },
  "language_info": {
   "codemirror_mode": {
    "name": "ipython",
    "version": 3
   },
   "file_extension": ".py",
   "mimetype": "text/x-python",
   "name": "python",
   "nbconvert_exporter": "python",
   "pygments_lexer": "ipython3",
   "version": "3.9.0"
  }
 },
 "nbformat": 4,
 "nbformat_minor": 2
}
