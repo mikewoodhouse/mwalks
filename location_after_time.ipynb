{
 "metadata": {
  "language_info": {
   "codemirror_mode": {
    "name": "ipython",
    "version": 3
   },
   "file_extension": ".py",
   "mimetype": "text/x-python",
   "name": "python",
   "nbconvert_exporter": "python",
   "pygments_lexer": "ipython3",
   "version": "3.9.0-final"
  },
  "orig_nbformat": 2,
  "kernelspec": {
   "name": "python3",
   "display_name": "Python 3.9.0 64-bit ('venv')",
   "metadata": {
    "interpreter": {
     "hash": "dcdc6befbc114da95632b725fe73bf5f7e4d75641e7b5f70df78edb54e236f6a"
    }
   }
  }
 },
 "nbformat": 4,
 "nbformat_minor": 2,
 "cells": [
  {
   "cell_type": "code",
   "execution_count": null,
   "metadata": {},
   "outputs": [],
   "source": [
    "import sqlite3"
   ]
  },
  {
   "cell_type": "code",
   "execution_count": null,
   "metadata": {},
   "outputs": [],
   "source": [
    "import matplotlib.pyplot as plt\n",
    "\n",
    "import cartopy.crs as ccrs\n",
    "from cartopy.io import shapereader\n",
    "from cartopy.mpl.gridliner import LONGITUDE_FORMATTER, LATITUDE_FORMATTER\n",
    "\n",
    "import cartopy.io.img_tiles as cimgt\n",
    "\n",
    "from shapely.geometry import shape\n",
    "\n",
    "from haversine import distance"
   ]
  },
  {
   "cell_type": "code",
   "execution_count": null,
   "metadata": {},
   "outputs": [],
   "source": [
    "conn = sqlite3.connect('mwalks.sqlite')"
   ]
  },
  {
   "cell_type": "code",
   "execution_count": null,
   "metadata": {},
   "outputs": [],
   "source": [
    "points = conn.execute('SELECT * FROM points ORDER BY route_id, point_id').fetchall()\n",
    "print(len(points))\n",
    "\n",
    "route_bounds = conn.execute('SELECT Min(lon), Min(lat), Max(lon), Max(lat) FROM points').fetchone()\n",
    "print(bounds)\n",
    "\n",
    "conn.close()"
   ]
  },
  {
   "cell_type": "code",
   "execution_count": null,
   "metadata": {},
   "outputs": [],
   "source": [
    "def make_map(projection=ccrs.PlateCarree()):\n",
    "    fig, ax = plt.subplots(figsize=(9, 13),\n",
    "                           subplot_kw=dict(projection=projection))\n",
    "    gl = ax.gridlines(draw_labels=True)\n",
    "    gl.xlabels_top = gl.ylabels_right = False\n",
    "    gl.xformatter = LONGITUDE_FORMATTER\n",
    "    gl.yformatter = LATITUDE_FORMATTER\n",
    "    return fig, ax"
   ]
  },
  {
   "cell_type": "code",
   "execution_count": null,
   "metadata": {},
   "outputs": [],
   "source": [
    "request = cimgt.OSM()  # Open Street Map\n",
    "\n",
    "pad_lat = 0.002\n",
    "pad_lon = 0.002\n",
    "\n",
    "lon_min, lat_min, lon_max, lat_max = route_bounds\n",
    "extent = [lon_min - pad_lon, lon_max + pad_lon, lat_min - pad_lat, lat_max + pad_lat]\n",
    "\n",
    "fig, ax = make_map(projection=request.crs)\n",
    "ax.set_extent(extent)\n",
    "\n",
    "img = ax.add_image(request, 14)"
   ]
  },
  {
   "cell_type": "code",
   "execution_count": null,
   "metadata": {},
   "outputs": [],
   "source": [
    "print(points[:5])"
   ]
  },
  {
   "cell_type": "code",
   "execution_count": null,
   "metadata": {},
   "outputs": [],
   "source": [
    "from collections import defaultdict"
   ]
  },
  {
   "cell_type": "code",
   "execution_count": null,
   "metadata": {},
   "outputs": [],
   "source": [
    "from typing import NamedTuple"
   ]
  },
  {
   "cell_type": "code",
   "execution_count": null,
   "metadata": {},
   "outputs": [],
   "source": [
    "import itertools\n",
    "\n",
    "def pairwise(iterable):\n",
    "    prev_item = None\n",
    "    for current_item in iterable:\n",
    "        yield (current_item, prev_item)\n",
    "        prev_item = current_item\n",
    "        \n",
    "class Point(NamedTuple):\n",
    "    point_id: int\n",
    "    route_id: int\n",
    "    dt: object\n",
    "    lat: float\n",
    "    lon: float\n",
    "    ele: float\n",
    "\n",
    "class Route:\n",
    "    def __init__(self):\n",
    "        self.points = []\n",
    "        self.segments = None\n",
    "\n",
    "    def add_point(self, pt):\n",
    "        self.points.append(pt)\n",
    "\n",
    "    @property\n",
    "    def segments(self):\n",
    "        if self.segments:\n",
    "            return self.segments"
   ]
  },
  {
   "cell_type": "code",
   "execution_count": null,
   "metadata": {},
   "outputs": [],
   "source": [
    "routes = defaultdict(Route)\n",
    "for pt in [Point(*p) for p in points]:\n",
    "    routes[pt.route_id].add_point(pt)\n",
    "for route_id, rt in routes.items():\n",
    "    print(f'Route {route_id}: {len(rt.points)} points')    \n"
   ]
  },
  {
   "cell_type": "code",
   "execution_count": null,
   "metadata": {},
   "outputs": [],
   "source": []
  }
 ]
}